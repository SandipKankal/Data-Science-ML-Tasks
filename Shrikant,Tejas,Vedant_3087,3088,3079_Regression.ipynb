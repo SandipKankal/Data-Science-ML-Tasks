{
  "nbformat": 4,
  "nbformat_minor": 0,
  "metadata": {
    "colab": {
      "provenance": []
    },
    "kernelspec": {
      "name": "python3",
      "display_name": "Python 3"
    },
    "language_info": {
      "name": "python"
    }
  },
  "cells": [
    {
      "cell_type": "code",
      "source": [
        "import pandas as pd\n",
        "import numpy as np\n",
        "import matplotlib.pyplot as plt\n",
        "import seaborn as sns\n",
        "from sklearn.model_selection import train_test_split\n",
        "from sklearn.preprocessing import StandardScaler, LabelEncoder\n",
        "from sklearn.linear_model import LinearRegression\n",
        "from sklearn.ensemble import RandomForestClassifier\n",
        "from sklearn.metrics import mean_squared_error, confusion_matrix, accuracy_score, r2_score"
      ],
      "metadata": {
        "id": "7heEaA4UHZbT"
      },
      "execution_count": null,
      "outputs": []
    },
    {
      "cell_type": "code",
      "source": [
        "# Load Dataset\n",
        "data = pd.read_csv('/content/insurance.csv')\n",
        "print(data.head())"
      ],
      "metadata": {
        "colab": {
          "base_uri": "https://localhost:8080/"
        },
        "id": "ZvoUYPML1FVj",
        "outputId": "64b20dfa-0670-448b-a8a4-5db02ea646b9"
      },
      "execution_count": null,
      "outputs": [
        {
          "output_type": "stream",
          "name": "stdout",
          "text": [
            "   age     sex     bmi  children smoker     region      charges\n",
            "0   19  female  27.900         0    yes  southwest  16884.92400\n",
            "1   18    male  33.770         1     no  southeast   1725.55230\n",
            "2   28    male  33.000         3     no  southeast   4449.46200\n",
            "3   33    male  22.705         0     no  northwest  21984.47061\n",
            "4   32    male  28.880         0     no  northwest   3866.85520\n"
          ]
        }
      ]
    },
    {
      "cell_type": "code",
      "source": [
        "# Exploratory Data Analysis (EDA)\n",
        "plt.figure(figsize=(8, 6))\n",
        "sns.boxplot(x=data['charges'])\n",
        "plt.title(\"Boxplot of Charges\")\n",
        "plt.show()\n"
      ],
      "metadata": {
        "colab": {
          "base_uri": "https://localhost:8080/",
          "height": 564
        },
        "id": "ojD76Ryc1Il1",
        "outputId": "3999f853-b0bc-486b-f370-f5f26506fe03"
      },
      "execution_count": null,
      "outputs": [
        {
          "output_type": "display_data",
          "data": {
            "text/plain": [
              "<Figure size 800x600 with 1 Axes>"
            ],
            "image/png": "[encoded data removed]"
          },
          "metadata": {}
        }
      ]
    },
    {
      "cell_type": "code",
      "source": [
        "# Data Preprocessing\n",
        "scaler = StandardScaler()\n",
        "data[['age', 'bmi']] = scaler.fit_transform(data[['age', 'bmi']])"
      ],
      "metadata": {
        "id": "MTJ9xvzY1LMp"
      },
      "execution_count": null,
      "outputs": []
    },
    {
      "cell_type": "code",
      "source": [
        "# Outlier Removal: Remove top 1% of 'charges'\n",
        "data = data[data['charges'] < data['charges'].quantile(0.99)].reset_index(drop=True)"
      ],
      "metadata": {
        "id": "v5qiBSV51Ojn"
      },
      "execution_count": null,
      "outputs": []
    },
    {
      "cell_type": "code",
      "source": [
        "# Handling Categorical Variables with Label Encoding\n",
        "label_encoders = {}"
      ],
      "metadata": {
        "id": "NAAYoICm1Rqh"
      },
      "execution_count": null,
      "outputs": []
    },
    {
      "cell_type": "code",
      "source": [
        "# Handling Categorical Variables with Label Encoding\n",
        "label_encoders = {}\n",
        "\n",
        "for col in ['sex', 'smoker', 'region']:\n",
        "    le = LabelEncoder()\n",
        "    data[col] = le.fit_transform(data[col])\n",
        "    label_encoders[col] = le"
      ],
      "metadata": {
        "id": "7bClmjaM1VPC"
      },
      "execution_count": null,
      "outputs": []
    },
    {
      "cell_type": "code",
      "source": [
        "# Train-Test Split (80% training, 20% testing)\n",
        "X = data.drop('charges', axis=1)\n",
        "y = data['charges']\n",
        "X_train, X_test, y_train, y_test = train_test_split(X, y, test_size=0.2, random_state=123)"
      ],
      "metadata": {
        "id": "UuBJeiYR1ZL_"
      },
      "execution_count": null,
      "outputs": []
    },
    {
      "cell_type": "code",
      "source": [
        "# Modeling: Linear Regression\n",
        "lm_model = LinearRegression()\n",
        "lm_model.fit(X_train, y_train)\n",
        "print(f\"Linear Regression Coefficients: {lm_model.coef_}\")\n",
        "\n",
        "# Modeling: Random Forest Classifier (Predict 'smoker')\n",
        "rf_model = RandomForestClassifier(n_estimators=500, random_state=123)\n",
        "rf_model.fit(X_train.drop('smoker', axis=1), X_train['smoker'])\n",
        "\n",
        "print(f\"Random Forest Model: {rf_model}\")"
      ],
      "metadata": {
        "colab": {
          "base_uri": "https://localhost:8080/"
        },
        "id": "t7nWnPed1kQD",
        "outputId": "01c860a6-2217-476a-e5a5-694d99105452"
      },
      "execution_count": null,
      "outputs": [
        {
          "output_type": "stream",
          "name": "stdout",
          "text": [
            "Linear Regression Coefficients: [ 3457.38227341  -107.43982966  1867.88902208   554.11062693\n",
            " 22993.95691722  -414.7979086 ]\n",
            "Random Forest Model: RandomForestClassifier(n_estimators=500, random_state=123)\n"
          ]
        }
      ]
    },
    {
      "cell_type": "code",
      "source": [
        "# Model Evaluation: Linear Regression\n",
        "y_pred = lm_model.predict(X_test)\n",
        "rmse = np.sqrt(mean_squared_error(y_test, y_pred))\n",
        "r2 = r2_score(y_test, y_pred)\n",
        "\n",
        "print(f\"Linear Regression RMSE: {rmse}\")\n",
        "print(f\"Linear Regression R²: {r2}\")\n"
      ],
      "metadata": {
        "colab": {
          "base_uri": "https://localhost:8080/"
        },
        "id": "enJtXq6L1lOM",
        "outputId": "a7ea6460-39e7-44bf-f5b7-1684eb3eb040"
      },
      "execution_count": null,
      "outputs": [
        {
          "output_type": "stream",
          "name": "stdout",
          "text": [
            "Linear Regression RMSE: 5598.742714321515\n",
            "Linear Regression R²: 0.7440772682071528\n"
          ]
        }
      ]
    },
    {
      "cell_type": "code",
      "source": [
        "# Model Evaluation: Random Forest Classifier\n",
        "rf_pred = rf_model.predict(X_test.drop('smoker', axis=1))\n",
        "cm = confusion_matrix(X_test['smoker'], rf_pred)\n",
        "accuracy = accuracy_score(X_test['smoker'], rf_pred)\n",
        "\n",
        "print(f\"Confusion Matrix:\\n{cm}\")\n",
        "print(f\"Accuracy for Random Forest: {accuracy}\")"
      ],
      "metadata": {
        "colab": {
          "base_uri": "https://localhost:8080/"
        },
        "id": "TWA7rCKQ11QW",
        "outputId": "31416629-2d76-423a-b704-b4d5daaf2b7e"
      },
      "execution_count": null,
      "outputs": [
        {
          "output_type": "stream",
          "name": "stdout",
          "text": [
            "Confusion Matrix:\n",
            "[[206   9]\n",
            " [ 47   3]]\n",
            "Accuracy for Random Forest: 0.7886792452830189\n"
          ]
        }
      ]
    },
    {
      "cell_type": "code",
      "source": [
        "# Deployment: Predict Charges for New Input Data\n",
        "new_data = pd.DataFrame({\n",
        "    'age': [30],\n",
        "    'sex': [label_encoders['sex'].transform(['male'])[0]],\n",
        "    'bmi': [25],\n",
        "    'children': [2],\n",
        "    'smoker': [label_encoders['smoker'].transform(['no'])[0]],\n",
        "    'region': [label_encoders['region'].transform(['southwest'])[0]]\n",
        "})"
      ],
      "metadata": {
        "id": "LNCtz5lc149s"
      },
      "execution_count": null,
      "outputs": []
    },
    {
      "cell_type": "code",
      "source": [
        "# Deployment: Predict Charges for New Input Data\n",
        "new_data = pd.DataFrame({\n",
        "    'age': [60],\n",
        "    'sex': [label_encoders['sex'].transform(['female'])[0]],\n",
        "    'bmi': [25.84],\n",
        "    'children': [0],\n",
        "    'smoker': [label_encoders['smoker'].transform(['no'])[0]],\n",
        "    'region': [label_encoders['region'].transform(['northwest'])[0]]\n",
        "})"
      ],
      "metadata": {
        "id": "wJy9V3rNhHQ2"
      },
      "execution_count": null,
      "outputs": []
    },
    {
      "cell_type": "code",
      "source": [
        "# Scale the new input data\n",
        "new_data[['age', 'bmi']] = scaler.transform(new_data[['age', 'bmi']])\n",
        "\n",
        "# Predict charges for the new input\n",
        "predicted_charges = lm_model.predict(new_data)\n",
        "print(f\"Predicted Charges: {predicted_charges[0]}\")"
      ],
      "metadata": {
        "colab": {
          "base_uri": "https://localhost:8080/"
        },
        "id": "W6pkkiKW19H_",
        "outputId": "713d1540-93bc-4b4c-cf53-27b1066e855f"
      },
      "execution_count": null,
      "outputs": [
        {
          "output_type": "stream",
          "name": "stdout",
          "text": [
            "Predicted Charges: 11781.903704562024\n"
          ]
        }
      ]
    }
  ]
}