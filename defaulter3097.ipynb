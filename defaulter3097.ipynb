{
  "cells": [
    {
      "cell_type": "code",
      "execution_count": null,
      "metadata": {
        "id": "5hTQvOYGYAun"
      },
      "outputs": [],
      "source": [
        "# Importing necessary libraries\n",
        "import pandas as pd\n",
        "import numpy as np\n",
        "from sklearn.model_selection import train_test_split\n",
        "from sklearn.preprocessing import StandardScaler, LabelEncoder\n",
        "from sklearn.linear_model import LogisticRegression\n",
        "from sklearn.tree import DecisionTreeClassifier\n",
        "from sklearn.metrics import accuracy_score, classification_report, confusion_matrix, roc_auc_score"
      ]
    },
    {
      "cell_type": "code",
      "execution_count": null,
      "metadata": {
        "id": "RhDjpdp5ZYo3"
      },
      "outputs": [],
      "source": [
        "# Load the dataset\n",
        "data = pd.read_csv('loan_approval_dataset.csv')"
      ]
    },
    {
      "cell_type": "code",
      "execution_count": null,
      "metadata": {
        "id": "V8blcTzBXsZY"
      },
      "outputs": [],
      "source": []
    },
    {
      "cell_type": "code",
      "execution_count": null,
      "metadata": {
        "id": "mVz6oxUGZfxm"
      },
      "outputs": [],
      "source": [
        "# Preprocess the data\n",
        "# Handling missing values (if any)\n",
        "data.fillna(method='ffill', inplace=True)"
      ]
    },
    {
      "cell_type": "code",
      "execution_count": null,
      "metadata": {
        "id": "RFvRiqLjZrPc"
      },
      "outputs": [],
      "source": [
        "data.head()"
      ]
    },
    {
      "cell_type": "code",
      "execution_count": null,
      "metadata": {
        "id": "bjHSnsJhZx5L"
      },
      "outputs": [],
      "source": [
        "# Drop loan_id (not useful for prediction)\n",
        "data = data.drop('loan_id', axis=)"
      ]
    },
    {
      "cell_type": "code",
      "execution_count": null,
      "metadata": {
        "id": "Qy_kdBYuamPp"
      },
      "outputs": [],
      "source": [
        "# Drop loan_id (not useful for prediction)\n",
        "# Check if the column exists before dropping\n",
        "if 'loan_id' in data.columns:\n",
        "    data = data.drop('loan_id', axis=1)\n",
        "else:\n",
        "    print(\"Column 'loan_id' not found in the DataFrame.\")"
      ]
    },
    {
      "cell_type": "code",
      "execution_count": null,
      "metadata": {
        "id": "2PenVHhLaDPo"
      },
      "outputs": [],
      "source": [
        "# Handle missing values (fill forward or with median/mean depending on the feature)\n",
        "data.fillna(method='ffill', inplace=True)  # Or handle missing values differently if needed\n",
        "\n",
        "# Encoding categorical variables\n",
        "le = LabelEncoder()"
      ]
    },
    {
      "cell_type": "code",
      "execution_count": null,
      "metadata": {
        "id": "mZFtqPEyaGeQ"
      },
      "outputs": [],
      "source": [
        "print(data.columns)"
      ]
    },
    {
      "cell_type": "code",
      "execution_count": null,
      "metadata": {
        "id": "iwIFngpuaJeh"
      },
      "outputs": [],
      "source": [
        "# Strip leading/trailing spaces from column names\n",
        "data.columns = data.columns.str.strip()\n",
        "\n",
        "# Now you can proceed with your code\n",
        "le = LabelEncoder()\n",
        "data['education'] = le.fit_transform(data['education'])\n",
        "data['self_employed'] = le.fit_transform(data['self_employed'])\n"
      ]
    },
    {
      "cell_type": "code",
      "execution_count": null,
      "metadata": {
        "id": "yvMwPmgWadX8"
      },
      "outputs": [],
      "source": [
        "# Encode target variable 'loan_status'\n",
        "data['loan_status'] = le.fit_transform(data['loan_status'])"
      ]
    },
    {
      "cell_type": "code",
      "execution_count": null,
      "metadata": {
        "id": "fPnkjaahbRI7"
      },
      "outputs": [],
      "source": [
        "# Strip leading/trailing spaces from column names (if needed)\n",
        "data.columns = data.columns.str.strip()\n",
        "\n",
        "# Check if the column exists before proceeding\n",
        "if 'loan_status' in data.columns:\n",
        "    # Encode target variable 'loan_status'\n",
        "    data['loan_status'] = le.fit_transform(data['loan_status'])\n",
        "else:\n",
        "    print(\"Column 'loan_status' not found in the DataFrame. Please check your data.\")"
      ]
    },
    {
      "cell_type": "code",
      "execution_count": null,
      "metadata": {
        "id": "JImH17shajM5"
      },
      "outputs": [],
      "source": [
        "# Features (X) and Target (y)\n",
        "X = data.drop('loan_status', axis=1)\n",
        "y = data['loan_status']"
      ]
    },
    {
      "cell_type": "code",
      "execution_count": null,
      "metadata": {
        "id": "wTK_vlkSaltS"
      },
      "outputs": [],
      "source": [
        "# Split the data into training and test sets\n",
        "X_train, X_test, y_train, y_test = train_test_split(X, y, test_size=0.3, random_state=42)"
      ]
    },
    {
      "cell_type": "code",
      "execution_count": null,
      "metadata": {
        "id": "QybRvBCFaoZs"
      },
      "outputs": [],
      "source": [
        "# Feature scaling (especially for Logistic Regression)\n",
        "scaler = StandardScaler()\n",
        "X_train_scaled = scaler.fit_transform(X_train)\n",
        "X_test_scaled = scaler.transform(X_test)"
      ]
    },
    {
      "cell_type": "code",
      "execution_count": null,
      "metadata": {
        "id": "0eN55LBPeL5J"
      },
      "outputs": [],
      "source": [
        "!pip install scikit-learn\n",
        "import pandas as pd\n",
        "from sklearn.preprocessing import StandardScaler, OneHotEncoder\n",
        "from sklearn.compose import ColumnTransformer\n",
        "from sklearn.pipeline import Pipeline\n",
        "\n",
        "# Assuming 'education' is the problematic column\n",
        "categorical_features = ['education']  # Add any other categorical columns\n",
        "numerical_features = X_train.select_dtypes(include=['number']).columns.tolist()\n",
        "\n",
        "# Create preprocessing pipeline\n",
        "preprocessor = ColumnTransformer(\n",
        "    transformers=[\n",
        "        ('num', StandardScaler(), numerical_features),\n",
        "        ('cat', OneHotEncoder(sparse_output=False, handle_unknown='ignore'), categorical_features),\n",
        "    ])\n",
        "\n",
        "# Apply preprocessing pipeline\n",
        "X_train_scaled = preprocessor.fit_transform(X_train)\n",
        "X_test_scaled = preprocessor.transform(X_test)"
      ]
    },
    {
      "cell_type": "code",
      "execution_count": null,
      "metadata": {
        "id": "_o8blJpaarhO"
      },
      "outputs": [],
      "source": [
        "# 1. Logistic Regression Model\n",
        "lr_model = LogisticRegression()\n",
        "lr_model.fit(X_train_scaled, y_train)\n",
        "y_pred_lr = lr_model.predict(X_test_scaled)"
      ]
    },
    {
      "cell_type": "code",
      "execution_count": null,
      "metadata": {
        "id": "b9fjVW6yat2X"
      },
      "outputs": [],
      "source": [
        "# Evaluate Logistic Regression\n",
        "print(\"Logistic Regression Metrics:\")\n",
        "print(\"Accuracy:\", accuracy_score(y_test, y_pred_lr))\n",
        "print(classification_report(y_test, y_pred_lr))\n",
        "print(\"ROC-AUC Score:\", roc_auc_score(y_test, y_pred_lr))"
      ]
    },
    {
      "cell_type": "code",
      "execution_count": null,
      "metadata": {
        "id": "tOT8IRk0fGck"
      },
      "outputs": [],
      "source": [
        "# 2. Decision Tree Model\n",
        "from sklearn.preprocessing import LabelEncoder, OneHotEncoder\n",
        "from sklearn.compose import ColumnTransformer\n",
        "import pandas as pd\n",
        "\n",
        "# Identify all categorical features (including the one with ' No')\n",
        "categorical_features = ['education']  # Add the column containing ' No' and other categorical columns\n",
        "numerical_features = X_train.select_dtypes(include=['number']).columns.tolist()\n",
        "\n",
        "# Create preprocessing pipeline\n",
        "preprocessor = ColumnTransformer(\n",
        "    transformers=[\n",
        "        ('num', 'passthrough', numerical_features),  # Passthrough for numerical features\n",
        "        ('cat', OneHotEncoder(sparse_output=False, handle_unknown='ignore'), categorical_features),\n",
        "    ])\n",
        "\n",
        "# Fit and transform the preprocessor on X_train\n",
        "X_train_encoded = preprocessor.fit_transform(X_train)\n",
        "\n",
        "# Transform X_test using the fitted preprocessor\n",
        "X_test_encoded = preprocessor.transform(X_test)\n",
        "\n",
        "# Get feature names after transformation\n",
        "feature_names = preprocessor.get_feature_names_out(input_features=X_train.columns)\n",
        "\n",
        "# Create DataFrames with appropriate column names\n",
        "X_train_encoded = pd.DataFrame(X_train_encoded, columns=feature_names, index=X_train.index)\n",
        "X_test_encoded = pd.DataFrame(X_test_encoded, columns=feature_names, index=X_test.index)\n",
        "\n",
        "# Re-train the Decision Tree model with the updated X_train\n",
        "dt_model = DecisionTreeClassifier()  # Re-initialize if needed\n",
        "dt_model.fit(X_train_encoded, y_train)\n",
        "\n",
        "y_pred_dt = dt_model.predict(X_test_encoded)"
      ]
    },
    {
      "cell_type": "code",
      "execution_count": null,
      "metadata": {
        "id": "6gp1FGVma0OO"
      },
      "outputs": [],
      "source": [
        "# Evaluate Decision Tree\n",
        "print(\"\\nDecision Tree Metrics:\")\n",
        "print(\"Accuracy:\", accuracy_score(y_test, y_pred_dt))\n",
        "print(classification_report(y_test, y_pred_dt))\n",
        "print(\"ROC-AUC Score:\", roc_auc_score(y_test, y_pred_dt))"
      ]
    },
    {
      "cell_type": "code",
      "execution_count": null,
      "metadata": {
        "id": "Wx8s7rQia22H"
      },
      "outputs": [],
      "source": [
        "# prompt: visualize the statistics\n",
        "\n",
        "import matplotlib.pyplot as plt\n",
        "import seaborn as sns\n",
        "\n",
        "# Assuming 'data' DataFrame is already created and preprocessed as in the previous code\n",
        "\n",
        "# Visualize the distribution of the target variable\n",
        "plt.figure(figsize=(6, 4))\n",
        "sns.countplot(x='loan_status', data=data)\n",
        "plt.title('Distribution of Loan Status')\n",
        "plt.show()\n",
        "\n",
        "# Visualize the relationship between 'loan_status' and 'education'\n",
        "plt.figure(figsize=(8, 6))\n",
        "sns.countplot(x='education', hue='loan_status', data=data)\n",
        "plt.title('Loan Status vs. Education')\n",
        "plt.show()\n",
        "\n",
        "\n",
        "# Visualize the correlation matrix\n",
        "plt.figure(figsize=(10, 8))\n",
        "correlation_matrix = data.corr()\n",
        "sns.heatmap(correlation_matrix, annot=True, cmap='coolwarm')\n",
        "plt.title('Correlation Matrix of Features')\n",
        "plt.show()\n",
        "\n",
        "\n",
        "# Box plots to visualize the relationship between numerical features and the target variable.\n",
        "numerical_features = ['applicantincome', 'coapplicantincome', 'loanamount']\n",
        "for col in numerical_features:\n",
        "  plt.figure(figsize=(8,6))\n",
        "  sns.boxplot(x='loan_status', y=col, data=data)\n",
        "  plt.title(f'Box Plot of {col} by Loan Status')\n",
        "  plt.show()\n",
        "\n",
        "# Confusion Matrix visualization (for Logistic Regression)\n",
        "cm_lr = confusion_matrix(y_test, y_pred_lr)\n",
        "plt.figure(figsize=(6, 4))\n",
        "sns.heatmap(cm_lr, annot=True, fmt='d', cmap='Blues',\n",
        "            xticklabels=['Predicted 0', 'Predicted 1'],\n",
        "            yticklabels=['Actual 0', 'Actual 1'])\n",
        "plt.title('Confusion Matrix (Logistic Regression)')\n",
        "plt.show()\n",
        "\n",
        "\n",
        "# You can create similar visualizations for the Decision Tree model."
      ]
    },
    {
      "cell_type": "code",
      "execution_count": null,
      "metadata": {
        "id": "BtYfoldDd7Wg"
      },
      "outputs": [],
      "source": [
        "import matplotlib.pyplot as plt\n",
        "import seaborn as sns\n",
        "\n",
        "# Assuming 'data' DataFrame is already created and preprocessed\n",
        "\n",
        "# Visualize the distribution of the target variable\n",
        "plt.figure(figsize=(6, 4))\n",
        "sns.countplot(x='loan_status', data=data)\n",
        "plt.title('Distribution of Loan Status')\n",
        "plt.show()\n",
        "\n",
        "# Visualize the relationship between 'loan_status' and 'education'\n",
        "plt.figure(figsize=(8, 6))\n",
        "sns.countplot(x='education', hue='loan_status', data=data)\n",
        "plt.title('Loan Status vs. Education')\n",
        "plt.show()\n",
        "\n",
        "# Visualize the correlation matrix\n",
        "plt.figure(figsize=(10, 8))\n",
        "correlation_matrix = data.corr()\n",
        "sns.heatmap(correlation_matrix, annot=True, cmap='coolwarm')\n",
        "plt.title('Correlation Matrix of Features')\n",
        "plt.show()\n",
        "\n",
        "# Example: Visualize the distribution of 'income_annum'\n",
        "plt.figure(figsize=(8, 6))\n",
        "sns.histplot(data['income_annum'], kde=True)\n",
        "plt.title('Distribution of Applicant Income (Annum)')\n",
        "plt.show()\n",
        "\n",
        "\n",
        "# Confusion Matrix visualization (for Logistic Regression)\n",
        "cm_lr = confusion_matrix(y_test, y_pred_lr)\n",
        "plt.figure(figsize=(6, 4))\n",
        "sns.heatmap(cm_lr, annot=True, fmt='d', cmap='Blues',\n",
        "            xticklabels=['Predicted 0', 'Predicted 1'],\n",
        "            yticklabels=['Actual 0', 'Actual 1'])\n",
        "plt.title('Confusion Matrix (Logistic Regression)')\n",
        "plt.show()\n"
      ]
    },
    {
      "cell_type": "code",
      "execution_count": null,
      "metadata": {
        "id": "99nHyLkNeB1B"
      },
      "outputs": [],
      "source": [
        "# Box plots to visualize the relationship between numerical features and the target variable\n",
        "numerical_features = ['income_annum', 'loan_amount', 'cibil_score', 'residential_assets_value', 'commercial_assets_value', 'luxury_assets_value', 'bank_asset_value']\n",
        "for col in numerical_features:\n",
        "    plt.figure(figsize=(8, 6))\n",
        "    sns.boxplot(x='loan_status', y=col, data=data)\n",
        "    plt.title(f'Box Plot of {col} by Loan Status')\n",
        "    plt.show()\n"
      ]
    }
  ],
  "metadata": {
    "colab": {
      "private_outputs": true,
      "provenance": []
    },
    "kernelspec": {
      "display_name": "Python 3",
      "name": "python3"
    },
    "language_info": {
      "name": "python"
    }
  },
  "nbformat": 4,
  "nbformat_minor": 0
}
